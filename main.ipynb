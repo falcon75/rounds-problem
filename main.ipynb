{
 "cells": [
  {
   "cell_type": "code",
   "execution_count": null,
   "metadata": {},
   "outputs": [],
   "source": [
    "import matplotlib.pyplot as plt\n",
    "import numpy as np"
   ]
  },
  {
   "cell_type": "code",
   "execution_count": null,
   "metadata": {},
   "outputs": [],
   "source": [
    "probs = 100\n",
    "rounds = 2000\n",
    "games = 20000\n",
    "\n",
    "x = np.zeros((probs, rounds, games))\n",
    "round_probs = np.linspace(0.01, 1, probs)\n",
    "\n",
    "for i in range(probs):\n",
    "    p = round_probs[i]\n",
    "    x[i] = np.cumsum(np.random.choice([1, -1], size=(rounds, games), p=[p, 1-p]), axis=0)"
   ]
  },
  {
   "cell_type": "code",
   "execution_count": null,
   "metadata": {},
   "outputs": [],
   "source": [
    "pos = x > 0\n",
    "\n",
    "for i in np.geomspace(1, rounds, 10):\n",
    "    i = int(i)\n",
    "    plt.plot(round_probs, np.mean(np.any(pos[:,:i,:], axis=1), axis=1), label=f'Round {i}')\n",
    "\n",
    "plt.xlabel('$p$')\n",
    "plt.ylabel('Proportion of games where A wins')\n",
    "plt.legend()\n",
    "plt.savefig('plot.png', dpi=300, bbox_inches='tight')\n",
    "plt.show()"
   ]
  }
 ],
 "metadata": {
  "kernelspec": {
   "display_name": "Python 3",
   "language": "python",
   "name": "python3"
  },
  "language_info": {
   "codemirror_mode": {
    "name": "ipython",
    "version": 3
   },
   "file_extension": ".py",
   "mimetype": "text/x-python",
   "name": "python",
   "nbconvert_exporter": "python",
   "pygments_lexer": "ipython3",
   "version": "3.11.4"
  }
 },
 "nbformat": 4,
 "nbformat_minor": 2
}
